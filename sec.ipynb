{
  "cells": [
    {
      "cell_type": "markdown",
      "metadata": {
        "id": "jmAZ1k0zXLdY"
      },
      "source": [
        "# SEC EDGAR"
      ]
    },
    {
      "cell_type": "markdown",
      "metadata": {
        "id": "B3IVkYM0XLda"
      },
      "source": [
        "### Imports and Constants"
      ]
    },
    {
      "cell_type": "code",
      "execution_count": 1,
      "metadata": {
        "id": "GpSPJ-7oXLdb"
      },
      "outputs": [],
      "source": [
        "import asyncio\n",
        "import concurrent.futures\n",
        "import json\n",
        "import os\n",
        "import random\n",
        "import time\n",
        "import zipfile\n",
        "from datetime import datetime, timedelta\n",
        "from typing import Dict, List, Set, Tuple, Union\n",
        "\n",
        "import aiohttp\n",
        "import numpy as np\n",
        "import orjson\n",
        "import pandas as pd\n",
        "import requests\n",
        "import smart_open\n",
        "from bs4 import BeautifulSoup\n",
        "from dateutil import relativedelta\n",
        "from smart_open import open\n",
        "from tqdm import tqdm\n"
      ]
    },
    {
      "cell_type": "code",
      "execution_count": 2,
      "metadata": {
        "id": "VQqE80eTXLdc"
      },
      "outputs": [],
      "source": [
        "heading = {\"User-Agent\": \"locke@gatech.edu\"}"
      ]
    },
    {
      "cell_type": "markdown",
      "metadata": {
        "id": "zQ1qdwjsXLdc"
      },
      "source": [
        "### Create ticker to CIK mapping & get SP500 tickers"
      ]
    },
    {
      "cell_type": "code",
      "execution_count": 3,
      "metadata": {
        "id": "m9vchjj7XLdc"
      },
      "outputs": [],
      "source": [
        "url = \"https://www.sec.gov/files/company_tickers.json\"\n",
        "r = requests.get(url, headers=heading)\n",
        "ticker_cik = pd.DataFrame(r.json()).T\n",
        "ticker_cik.set_index(\"ticker\", inplace=True)"
      ]
    },
    {
      "cell_type": "code",
      "execution_count": 4,
      "metadata": {
        "id": "0Ks7cwqJXLdd"
      },
      "outputs": [],
      "source": [
        "def get_cik(ticker: str) -> str:\n",
        "    return str(ticker_cik.loc[ticker, \"cik_str\"]).zfill(10)"
      ]
    },
    {
      "cell_type": "code",
      "execution_count": 5,
      "metadata": {
        "id": "0djDFk7NXLdd"
      },
      "outputs": [],
      "source": [
        "def get_tickers_and_sectors() -> List[Tuple[str, str]]:\n",
        "    \"\"\"Get a list of tickers and their sectors for all stocks in the S&P 500.\n",
        "\n",
        "    Returns:\n",
        "        List[Tuple[str, str]]: List of tuples containing ticker and sector.\n",
        "    \"\"\"\n",
        "    url = \"http://en.wikipedia.org/wiki/List_of_S%26P_500_companies\"\n",
        "    response = requests.get(url)\n",
        "    source = BeautifulSoup(response.text, \"lxml\")\n",
        "    table = source.find(\"table\", {\"class\": \"wikitable sortable\"})\n",
        "    tickers_and_sectors = []\n",
        "    for row in table.findAll(\"tr\")[1:]:\n",
        "        ticker = row.findAll(\"td\")[0].text.replace(\"\\n\", \"\")\n",
        "        sector = row.findAll(\"td\")[3].text.replace(\"\\n\", \"\")\n",
        "        tickers_and_sectors.append((ticker, sector))\n",
        "    return tickers_and_sectors"
      ]
    },
    {
      "cell_type": "markdown",
      "metadata": {
        "id": "bE0f-cTyXLdd"
      },
      "source": [
        "### Download and process bulk data from SEC"
      ]
    },
    {
      "cell_type": "code",
      "execution_count": 6,
      "metadata": {
        "id": "trk9791tXLdd"
      },
      "outputs": [],
      "source": [
        "DATA_DIR = \"data\"\n",
        "RAW_DATA_DIR = os.path.join(DATA_DIR, \"raw\")\n",
        "PROCESSED_DATA_DIR = os.path.join(DATA_DIR, \"processed\")\n",
        "\n",
        "os.makedirs(DATA_DIR, exist_ok=True)\n",
        "os.makedirs(RAW_DATA_DIR, exist_ok=True)\n",
        "os.makedirs(PROCESSED_DATA_DIR, exist_ok=True)"
      ]
    },
    {
      "cell_type": "code",
      "execution_count": 7,
      "metadata": {
        "id": "2YmWBn4oXLde"
      },
      "outputs": [],
      "source": [
        "def download_data():\n",
        "    \"\"\"\n",
        "    Download all company facts from SEC.\n",
        "    \"\"\"\n",
        "    # if data/companyfacts.zip does not exist, download it\n",
        "    if not os.path.exists(os.path.join(RAW_DATA_DIR, \"companyfacts.zip\")):\n",
        "        print(\"Downloading companyfacts.zip...\")\n",
        "        url = \"https://www.sec.gov/Archives/edgar/daily-index/xbrl/companyfacts.zip\"\n",
        "        r = requests.get(url, headers=heading)\n",
        "        with open(\"data/raw/companyfacts.zip\", \"wb\") as f:\n",
        "            f.write(r.content)\n",
        "    # if JSON files do not exist, unzip them\n",
        "    if not os.path.exists(os.path.join(RAW_DATA_DIR, \"CIK000032019.json\")):\n",
        "        print(\"Unzipping companyfacts.zip...\")\n",
        "        with zipfile.ZipFile(os.path.join(RAW_DATA_DIR, \"companyfacts.zip\"), \"r\") as zip_ref:\n",
        "            zip_ref.extractall(\"data/raw\")"
      ]
    },
    {
      "cell_type": "code",
      "execution_count": 8,
      "metadata": {
        "id": "OBMOKFGZXLde"
      },
      "outputs": [],
      "source": [
        "def process_item(item: Dict) -> Dict:\n",
        "    \"\"\"\n",
        "    Process a single item in the SEC company facts JSON file.\n",
        "\n",
        "    Args:\n",
        "        item (Dict): The item to process, e.g. \"dei:EntityCommonStockSharesOutstanding\".\n",
        "\n",
        "    Returns:\n",
        "        Dict: The processed item.\n",
        "    \"\"\"\n",
        "\n",
        "    processed_item = {}\n",
        "    processed_item[\"label\"] = item[\"label\"]\n",
        "    processed_item[\"description\"] = item[\"description\"]\n",
        "\n",
        "    for unit in item[\"units\"]:\n",
        "\n",
        "        # store data by timeframe (i.e. FY2022, Q32019) and filing date\n",
        "        # for each category, seperate annual data from quarterly data\n",
        "        processed_item[unit] = {}\n",
        "        processed_item[unit][\"by_timeframe\"] = {\"annual\": {}, \"quarterly\": {}}\n",
        "        processed_item[unit][\"by_filing_date\"] = {\"annual\": {}, \"quarterly\": {}}\n",
        "        for entry in item[\"units\"][unit]:\n",
        "            fy = entry[\"fy\"]\n",
        "            fp = entry[\"fp\"]\n",
        "            filing_date = entry[\"filed\"]\n",
        "            if entry[\"fp\"] == \"FY\":\n",
        "                processed_item[unit][\"by_timeframe\"][\"annual\"][fy] = entry\n",
        "                processed_item[unit][\"by_filing_date\"][\"annual\"][filing_date] = entry\n",
        "            else:\n",
        "                if fy not in processed_item[unit][\"by_timeframe\"][\"quarterly\"]:\n",
        "                    processed_item[unit][\"by_timeframe\"][\"quarterly\"][fy] = {}\n",
        "                processed_item[unit][\"by_timeframe\"][\"quarterly\"][fy][fp] = entry\n",
        "                processed_item[unit][\"by_filing_date\"][\"quarterly\"][filing_date] = entry\n",
        "\n",
        "    return processed_item"
      ]
    },
    {
      "cell_type": "code",
      "execution_count": 9,
      "metadata": {
        "id": "fq7RrwSdXLde"
      },
      "outputs": [],
      "source": [
        "def process_json(ticker: str) -> None:\n",
        "    \"\"\"\n",
        "    Process the SEC company facts JSON file for a given ticker, creating a new JSON file.\n",
        "\n",
        "    Args:\n",
        "        ticker (str): The ticker symbol for the company to process.\n",
        "    \"\"\"\n",
        "\n",
        "    # find SEC data for the company\n",
        "    cik = get_cik(ticker)\n",
        "    try:\n",
        "        with open(os.path.join(RAW_DATA_DIR, f\"CIK{cik}.json\")) as f:\n",
        "            sec_data = orjson.loads(f.read())\n",
        "    except FileNotFoundError:\n",
        "        raise FileNotFoundError(f\"CIK{cik}.json not found in raw data directory. Use download_data().\")\n",
        "\n",
        "    # process the data\n",
        "    data = {\"ticker\": ticker, \"cik\": sec_data[\"cik\"], \"entityName\": sec_data[\"entityName\"]}\n",
        "    for item in sec_data[\"facts\"][\"dei\"]:\n",
        "        data[item] = process_item(sec_data[\"facts\"][\"dei\"][item])\n",
        "    for item in sec_data[\"facts\"][\"us-gaap\"]:\n",
        "        data[item] = process_item(sec_data[\"facts\"][\"us-gaap\"][item])\n",
        "\n",
        "    # write the data to a JSON file\n",
        "    with open(os.path.join(PROCESSED_DATA_DIR, f\"{ticker}.json\"), \"w\") as f:\n",
        "        f.write(json.dumps(data, indent=4))"
      ]
    },
    {
      "attachments": {},
      "cell_type": "markdown",
      "metadata": {},
      "source": [
        "Only run the below cells if you want to download and process the most recent data from the SEC."
      ]
    },
    {
      "cell_type": "code",
      "execution_count": 10,
      "metadata": {},
      "outputs": [
        {
          "name": "stdout",
          "output_type": "stream",
          "text": [
            "Unzipping companyfacts.zip...\n"
          ]
        }
      ],
      "source": [
        "# get up to date data from SEC\n",
        "download_data()"
      ]
    },
    {
      "cell_type": "code",
      "execution_count": null,
      "metadata": {},
      "outputs": [],
      "source": [
        "# process data for stocks in S&P 500\n",
        "tickers_and_sectors = get_tickers_and_sectors()\n",
        "for ticker, sector in tqdm(tickers_and_sectors):\n",
        "    try:\n",
        "        process_json(ticker)\n",
        "    except Exception as e:\n",
        "        print(f\"Could not process data for {ticker}. Error: {e}\")"
      ]
    },
    {
      "cell_type": "markdown",
      "metadata": {
        "id": "buhLSXqlXLdf"
      },
      "source": [
        "### Generic methods to retrieve metrics from processed JSON data"
      ]
    },
    {
      "cell_type": "code",
      "execution_count": 11,
      "metadata": {
        "id": "zm98sX0IXLdf"
      },
      "outputs": [],
      "source": [
        "def get_metric_by_timeframe(ticker: str, metric: str, units: str, year: str, quarter: str = None) -> float:\n",
        "    \"\"\"\n",
        "    Get a metric for a company by timeframe.\n",
        "\n",
        "    Args:\n",
        "        ticker (str): The ticker symbol for the company.\n",
        "        metric (str): The metric to get.\n",
        "        year (str): The year to get the metric for.\n",
        "        quarter (str, optional): The quarter to get the metric for. Defaults to None, which gets the annual metric.\n",
        "\n",
        "    Returns:\n",
        "        float: The metric value.\n",
        "    \"\"\"\n",
        "\n",
        "    with open(os.path.join(PROCESSED_DATA_DIR, f\"{ticker}.json\")) as f:\n",
        "        data = orjson.loads(f.read())\n",
        "\n",
        "    try:\n",
        "        if quarter is None:\n",
        "            return data[metric][units][\"by_timeframe\"][\"annual\"][year][\"val\"]\n",
        "        else:\n",
        "            return data[metric][units][\"by_timeframe\"][\"quarterly\"][year][quarter][\"val\"]\n",
        "    except KeyError:\n",
        "        if quarter is None:\n",
        "            raise KeyError(f\"Metric {metric} not found for {ticker} in {year}.\")\n",
        "        else:\n",
        "            raise KeyError(f\"Metric {metric} not found for {ticker} in {year} Q{quarter}.\")"
      ]
    },
    {
      "cell_type": "code",
      "execution_count": 13,
      "metadata": {
        "id": "PcP4yat7XLdf"
      },
      "outputs": [],
      "source": [
        "def get_closest_filing_date(ticker: str, metric: str, units: str, date: str, quarterly: bool = False) -> str:\n",
        "    \"\"\"\n",
        "    Get the closest filing date before a given date.\n",
        "\n",
        "    Args:\n",
        "        ticker (str): The ticker symbol for the company.\n",
        "        metric (str): The metric to get.\n",
        "        units (str): The units of the metric.\n",
        "        date (str): The date to get the closest filing date for.\n",
        "        quarterly (bool, optional): Whether to get the quarterly metric. Defaults to False.\n",
        "\n",
        "    Returns:\n",
        "        str: The closest filing date.\n",
        "    \"\"\"\n",
        "\n",
        "    with open(os.path.join(PROCESSED_DATA_DIR, f\"{ticker}.json\")) as f:\n",
        "        data = orjson.loads(f.read())\n",
        "\n",
        "    if quarterly:\n",
        "        filing_dates = list(data[metric][units][\"by_filing_date\"][\"quarterly\"].keys())\n",
        "    else:\n",
        "        filing_dates = list(data[metric][units][\"by_filing_date\"][\"annual\"].keys())\n",
        "\n",
        "    closest_date = None\n",
        "    left = 0\n",
        "    right = len(filing_dates) - 1\n",
        "    while left <= right:\n",
        "        mid = (left + right) // 2\n",
        "        if filing_dates[mid] <= date:\n",
        "            closest_date = filing_dates[mid]\n",
        "            left = mid + 1\n",
        "        else:\n",
        "            right = mid - 1\n",
        "\n",
        "    if closest_date is None:\n",
        "        raise KeyError(f\"Metric {metric} not found for {ticker} before {date}.\")\n",
        "\n",
        "    return closest_date"
      ]
    },
    {
      "cell_type": "code",
      "execution_count": 14,
      "metadata": {
        "id": "hbA_8jeBXLdf"
      },
      "outputs": [],
      "source": [
        "def get_metric(ticker: str, metric: str, units: str, query_date: str = None, quarterly: bool = False, tolerance: int = 52):\n",
        "    \"\"\"\n",
        "    Get a metric for a company from the most recent filing date before a given date.\n",
        "\n",
        "    Args:\n",
        "        ticker (str): The ticker symbol for the company.\n",
        "        metric (str): The metric to get.\n",
        "        units (str): The units of the metric.\n",
        "        query_date (str, optional): The date to get the metric for in Y-m-d format. Defaults to None, which gets the latest metric.\n",
        "        quarterly (bool, optional): Whether to get the quarterly metric. Defaults to False.\n",
        "        tolerance (int, optional): The max number of weeks to look back for a filing date. Defaults to 52.\n",
        "\n",
        "    Returns:\n",
        "        float: The metric value.\n",
        "    \"\"\"\n",
        "\n",
        "    with open(os.path.join(PROCESSED_DATA_DIR, f\"{ticker}.json\")) as f:\n",
        "        data = orjson.loads(f.read())\n",
        "\n",
        "    if query_date is None:\n",
        "        query_date = datetime.now().strftime(\"%Y-%m-%d\")\n",
        "\n",
        "    filing_date = get_closest_filing_date(ticker, metric, units, query_date, quarterly)\n",
        "    if datetime.strptime(query_date, \"%Y-%m-%d\") - datetime.strptime(filing_date, \"%Y-%m-%d\") > timedelta(weeks=tolerance):\n",
        "        raise KeyError(f\"Metric {metric} not found for {ticker} within {tolerance} weeks of {query_date}.\")\n",
        "\n",
        "    if quarterly:\n",
        "        return data[metric][units][\"by_filing_date\"][\"quarterly\"][filing_date][\"val\"]\n",
        "    else:\n",
        "        return data[metric][units][\"by_filing_date\"][\"annual\"][filing_date][\"val\"]\n"
      ]
    },
    {
      "cell_type": "code",
      "execution_count": 15,
      "metadata": {
        "id": "QQNucGpYXLdf"
      },
      "outputs": [],
      "source": [
        "def get_concept(\n",
        "        ticker: str,\n",
        "        concept: str,\n",
        "        tags: List[str],\n",
        "        units: str,\n",
        "        query_date: str = None,\n",
        "        quarterly: bool = False,\n",
        "        tolerance: int = 5\n",
        "    ) -> float:\n",
        "    \"\"\"\n",
        "    Get a concept for a company by trying several different XRBL tags. Returns the first valid value found.\n",
        "\n",
        "    Args:\n",
        "        ticker (str): The ticker symbol for the company.\n",
        "        concept (str): The name of the concept, strictly used for error messages.\n",
        "        tags (List[str]): The XRBL tags to check for the concept.\n",
        "        units (str): The units of the concept. Assumes the same units for all tags.\n",
        "        query_date (str, optional): The date to get the concept for in Y-m-d format. Defaults to None, which gets the latest concept.\n",
        "        quarterly (bool, optional): Whether to get the quarterly metric. Defaults to False.\n",
        "        tolerance (int, optional): The max number of weeks to look back for a filing date. Defaults to 52.\n",
        "\n",
        "    Returns:\n",
        "        float: The concept value.\n",
        "    \"\"\"\n",
        "    for tag in tags:\n",
        "        try:\n",
        "            return get_metric(ticker, tag, units, query_date, quarterly, tolerance)\n",
        "        except KeyError:\n",
        "            continue\n",
        "    period = \"quarterly\" if quarterly else \"annual\"\n",
        "    raise ValueError(f\"Could not find {period} {concept} for {ticker} within {tolerance} weeks of {query_date}.\")"
      ]
    },
    {
      "cell_type": "markdown",
      "metadata": {
        "id": "p6QbuOB3XLdg"
      },
      "source": [
        "### Methods to get specific financials from processed JSON data "
      ]
    },
    {
      "cell_type": "code",
      "execution_count": 16,
      "metadata": {
        "id": "__GqQdFYXLdg"
      },
      "outputs": [],
      "source": [
        "def get_shares_outstanding(ticker: str, query_date: str = None, quarterly: bool = False, tolerance: int = 52) -> float:\n",
        "    \"\"\"\n",
        "    Get the shares outstanding for a company.\n",
        "\n",
        "    Args:\n",
        "        ticker (str): The ticker symbol for the company.\n",
        "        query_date (str, optional): The date to get the metric for in Y-m-d format. Defaults to None, which gets the latest metric.\n",
        "        quarterly (bool, optional): Whether to get the quarterly metric. Defaults to False.\n",
        "        tolerance (int, optional): The max number of weeks to look back for a filing date. Defaults to 52.\n",
        "\n",
        "    Returns:\n",
        "        float: The shares outstanding.\n",
        "    \"\"\"\n",
        "    return get_concept(\n",
        "        ticker,\n",
        "        \"shares outstanding\",\n",
        "        [\"EntityCommonStockSharesOutstanding\"],\n",
        "        \"shares\",\n",
        "        query_date,\n",
        "        quarterly,\n",
        "        tolerance\n",
        "    )"
      ]
    },
    {
      "cell_type": "code",
      "execution_count": 17,
      "metadata": {
        "id": "NO6sBTlYXLdg"
      },
      "outputs": [],
      "source": [
        "def get_net_income(ticker: str, query_date: str = None, quarterly: bool = False, tolerance: int = 52) -> float:\n",
        "    \"\"\"\n",
        "    Get the net income for a company.\n",
        "\n",
        "    Args:\n",
        "        ticker (str): The ticker symbol for the company.\n",
        "        query_date (str, optional): The date to get the metric for in Y-m-d format. Defaults to None, which gets the latest metric.\n",
        "        quarterly (bool, optional): Whether to get the quarterly metric. Defaults to False.\n",
        "        tolerance (int, optional): The max number of weeks to look back for a filing date. Defaults to 52.\n",
        "\n",
        "    Returns:\n",
        "        float: The net income.\n",
        "    \"\"\"\n",
        "    tags = [\"NetIncomeLoss\", \"ProfitLoss\", \"NetIncomeLossAvailableToCommonStockholdersBasic\", \"IncomeLossFromContinuingOperations\"]\n",
        "    return get_concept(\n",
        "        ticker,\n",
        "        \"net income\",\n",
        "        tags,\n",
        "        \"USD\",\n",
        "        query_date,\n",
        "        quarterly,\n",
        "        tolerance\n",
        "    )\n",
        "    "
      ]
    },
    {
      "cell_type": "code",
      "execution_count": 18,
      "metadata": {
        "id": "t9JdWe3PXLdg"
      },
      "outputs": [],
      "source": [
        "def get_interest_expense(ticker: str, query_date: str = None, quarterly: bool = False, tolerance: int = 52) -> float:\n",
        "    \"\"\"\n",
        "    Get the interest expense for a company.\n",
        "\n",
        "    Args:\n",
        "        ticker (str): The ticker symbol for the company.\n",
        "        query_date (str, optional): The date to get the metric for in Y-m-d format. Defaults to None, which gets the latest metric.\n",
        "        quarterly (bool, optional): Whether to get the quarterly metric. Defaults to False.\n",
        "        tolerance (int, optional): The max number of weeks to look back for a filing date. Defaults to 52.\n",
        "\n",
        "    Returns:\n",
        "        float: The interest expense.\n",
        "    \"\"\"\n",
        "    tags = [\"InterestExpense\", \"InterestExpenseDebt\", \"InterestAndDebtExpense\", \"InterestExpenseBorrowings\", \"InterestIncomeExpenseNonoperatingNet\"]\n",
        "    return get_concept(\n",
        "        ticker,\n",
        "        \"interest expense\",\n",
        "        tags,\n",
        "        \"USD\",\n",
        "        query_date,\n",
        "        quarterly,\n",
        "        tolerance\n",
        "    )"
      ]
    },
    {
      "cell_type": "code",
      "execution_count": 19,
      "metadata": {
        "id": "tJHaPhF-XLdg"
      },
      "outputs": [],
      "source": [
        "def get_tax_expense(ticker: str, query_date: str = None, quarterly: bool = False, tolerance: int = 52) -> float:\n",
        "    \"\"\"\n",
        "    Get the tax expense for a company.\n",
        "\n",
        "    Args:\n",
        "        ticker (str): The ticker symbol for the company.\n",
        "        query_date (str, optional): The date to get the metric for in Y-m-d format. Defaults to None, which gets the latest metric.\n",
        "        quarterly (bool, optional): Whether to get the quarterly metric. Defaults to False.\n",
        "        tolerance (int, optional): The max number of weeks to look back for a filing date. Defaults to 52.\n",
        "\n",
        "    Returns:\n",
        "        float: The tax expense.\n",
        "    \"\"\"\n",
        "    tags = [\"IncomeTaxExpenseBenefit\", \"IncomeTaxExpenseBenefitContinuingOperations\", \"CurrentIncomeTaxExpenseBenefit\"]\n",
        "    return get_concept(\n",
        "        ticker,\n",
        "        \"tax expense\",\n",
        "        tags,\n",
        "        \"USD\",\n",
        "        query_date,\n",
        "        quarterly,\n",
        "        tolerance\n",
        "    )"
      ]
    },
    {
      "cell_type": "code",
      "execution_count": 20,
      "metadata": {
        "id": "lO5kalsOXLdg"
      },
      "outputs": [],
      "source": [
        "def get_revenue(ticker: str, query_date: str = None, quarterly: bool = False, tolerance: int = 52) -> float:\n",
        "    \"\"\"\n",
        "    Get the revenue for a company.\n",
        "\n",
        "    Args:\n",
        "        ticker (str): The ticker symbol for the company.\n",
        "        query_date (str, optional): The date to get the metric for in Y-m-d format. Defaults to None, which gets the latest metric.\n",
        "        quarterly (bool, optional): Whether to get the quarterly metric. Defaults to False.\n",
        "        tolerance (int, optional): The max number of weeks to look back for a filing date. Defaults to 52.\n",
        "\n",
        "    Returns:\n",
        "        float: The revenue.\n",
        "    \"\"\"\n",
        "    tags = [\"Revenues\", \"SalesRevenueNet\", \"SalesRevenueGoodsNet\", \"SalesRevenueServicesNet\", \"SalesRevenueNetOfInterestExpense\"]\n",
        "    return get_concept(\n",
        "        ticker,\n",
        "        \"revenue\",\n",
        "        tags,\n",
        "        \"USD\",\n",
        "        query_date,\n",
        "        quarterly,\n",
        "        tolerance\n",
        "    )"
      ]
    },
    {
      "cell_type": "code",
      "execution_count": 21,
      "metadata": {
        "id": "aqmXLIKNXLdg"
      },
      "outputs": [],
      "source": [
        "def get_cost_of_revenue(ticker: str, query_date: str = None, quarterly: bool = False, tolerance: int = 52) -> float:\n",
        "    \"\"\"\n",
        "    Get the cost of revenue for a company.\n",
        "\n",
        "    Args:\n",
        "        ticker (str): The ticker symbol for the company.\n",
        "        query_date (str, optional): The date to get the metric for in Y-m-d format. Defaults to None, which gets the latest metric.\n",
        "        quarterly (bool, optional): Whether to get the quarterly metric. Defaults to False.\n",
        "        tolerance (int, optional): The max number of weeks to look back for a filing date. Defaults to 52.\n",
        "\n",
        "    Returns:\n",
        "        float: The cost of revenue.\n",
        "    \"\"\"\n",
        "    tags = [\"CostOfRevenue\", \"CostOfGoodsAndServicesSold\", \"CostOfGoodsSold\", \"CostOfServices\"]\n",
        "    return get_concept(\n",
        "        ticker,\n",
        "        \"cost of revenue\",\n",
        "        tags,\n",
        "        \"USD\",\n",
        "        query_date,\n",
        "        quarterly,\n",
        "        tolerance\n",
        "    )"
      ]
    },
    {
      "cell_type": "code",
      "execution_count": 22,
      "metadata": {
        "id": "EgLpIfbeXLdg"
      },
      "outputs": [],
      "source": [
        "def get_operating_expenses(ticker: str, query_date: str = None, quarterly: bool = False, tolerance: int = 52) -> float:\n",
        "    \"\"\"\n",
        "    Get the operating expenses for a company.\n",
        "\n",
        "    Args:\n",
        "        ticker (str): The ticker symbol for the company.\n",
        "        query_date (str, optional): The date to get the metric for in Y-m-d format. Defaults to None, which gets the latest metric.\n",
        "        quarterly (bool, optional): Whether to get the quarterly metric. Defaults to False.\n",
        "        tolerance (int, optional): The max number of weeks to look back for a filing date. Defaults to 52.\n",
        "\n",
        "    Returns:\n",
        "        float: The operating expenses.\n",
        "    \"\"\"\n",
        "    tags = [\"OperatingExpenses\", \"OperatingCostsAndExpenses\"]\n",
        "    return get_concept(\n",
        "        ticker,\n",
        "        \"operating expenses\",\n",
        "        tags,\n",
        "        \"USD\",\n",
        "        query_date,\n",
        "        quarterly,\n",
        "        tolerance\n",
        "    )"
      ]
    },
    {
      "cell_type": "code",
      "execution_count": 23,
      "metadata": {
        "id": "XMD5bTAaXLdg"
      },
      "outputs": [],
      "source": [
        "def get_depreciation(ticker: str, query_date: str = None, quarterly: bool = False, tolerance: int = 52) -> float:\n",
        "    \"\"\"\n",
        "    Get the depreciation for a company.\n",
        "\n",
        "    Args:\n",
        "        ticker (str): The ticker symbol for the company.\n",
        "        query_date (str, optional): The date to get the metric for in Y-m-d format. Defaults to None, which gets the latest metric.\n",
        "        quarterly (bool, optional): Whether to get the quarterly metric. Defaults to False.\n",
        "        tolerance (int, optional): The max number of weeks to look back for a filing date. Defaults to 52.\n",
        "\n",
        "    Returns:\n",
        "        float: The depreciation.\n",
        "    \"\"\"\n",
        "    tags = [\"Depreciation\"]\n",
        "    return get_concept(\n",
        "        ticker,\n",
        "        \"depreciation\",\n",
        "        tags,\n",
        "        \"USD\",\n",
        "        query_date,\n",
        "        quarterly,\n",
        "        tolerance\n",
        "    )"
      ]
    },
    {
      "cell_type": "code",
      "execution_count": 24,
      "metadata": {
        "id": "jDsU5BsVXLdh"
      },
      "outputs": [],
      "source": [
        "def get_amortization(ticker: str, query_date: str = None, quarterly: bool = False, tolerance: int = 52) -> float:\n",
        "    \"\"\"\n",
        "    Get the amortization for a company.\n",
        "\n",
        "    Args:\n",
        "        ticker (str): The ticker symbol for the company.\n",
        "        query_date (str, optional): The date to get the metric for in Y-m-d format. Defaults to None, which gets the latest metric.\n",
        "        quarterly (bool, optional): Whether to get the quarterly metric. Defaults to False.\n",
        "        tolerance (int, optional): The max number of weeks to look back for a filing date. Defaults to 52.\n",
        "\n",
        "    Returns:\n",
        "        float: The amortization.\n",
        "    \"\"\"\n",
        "    tags = [\"Amortization\"]\n",
        "    return get_concept(\n",
        "        ticker,\n",
        "        \"amortization\",\n",
        "        tags,\n",
        "        \"USD\",\n",
        "        query_date,\n",
        "        quarterly,\n",
        "        tolerance\n",
        "    )"
      ]
    },
    {
      "cell_type": "code",
      "execution_count": 25,
      "metadata": {
        "id": "eP16FegCXLdh"
      },
      "outputs": [],
      "source": [
        "def get_depreciation_and_amortization(ticker: str, query_date: str = None, quarterly: bool = False, tolerance: int = 52) -> float:\n",
        "    \"\"\"\n",
        "    Get the depreciation and amortization for a company.\n",
        "\n",
        "    Args:\n",
        "        ticker (str): The ticker symbol for the company.\n",
        "        query_date (str, optional): The date to get the metric for in Y-m-d format. Defaults to None, which gets the latest metric.\n",
        "        quarterly (bool, optional): Whether to get the quarterly metric. Defaults to False.\n",
        "        tolerance (int, optional): The max number of weeks to look back for a filing date. Defaults to 52.\n",
        "\n",
        "    Returns:\n",
        "        float: The depreciation and amortization.\n",
        "    \"\"\"\n",
        "    tags = [\"DepreciationAndAmortization\", \"DepreciationDepletionAndAmortization\", \"DepreciationAmortizationAndAccretionNet\"]\n",
        "    try:\n",
        "        return get_concept(\n",
        "            ticker,\n",
        "            \"depreciation and amortization\",\n",
        "            tags,\n",
        "            \"USD\",\n",
        "            query_date,\n",
        "            quarterly,\n",
        "            tolerance\n",
        "        )\n",
        "    except:\n",
        "        try:\n",
        "            depreciation = get_depreciation(ticker, query_date, quarterly, tolerance)\n",
        "        except:\n",
        "            depreciation = 0\n",
        "        try:\n",
        "            amortization = get_amortization(ticker, query_date, quarterly, tolerance)\n",
        "        except:\n",
        "            amortization = 0\n",
        "        if depreciation == 0 and amortization == 0:\n",
        "            raise ValueError(\"No depreciation or amortization found.\")\n",
        "        return depreciation + amortization\n"
      ]
    },
    {
      "cell_type": "code",
      "execution_count": 26,
      "metadata": {
        "id": "oZH6-U2JXLdh"
      },
      "outputs": [],
      "source": [
        "def get_current_debt(ticker: str, query_date: str = None, quarterly: bool = False, tolerance: int = 52) -> float:\n",
        "    \"\"\"\n",
        "    Get the current debt for a company.\n",
        "\n",
        "    Args:\n",
        "        ticker (str): The ticker symbol for the company.\n",
        "        query_date (str, optional): The date to get the metric for in Y-m-d format. Defaults to None, which gets the latest metric.\n",
        "        quarterly (bool, optional): Whether to get the quarterly metric. Defaults to False.\n",
        "        tolerance (int, optional): The max number of weeks to look back for a filing date. Defaults to 52.\n",
        "\n",
        "    Returns:\n",
        "        float: The current debt.\n",
        "    \"\"\"\n",
        "    tags = [\"LongTermDebtCurrent\"]\n",
        "    return get_concept(\n",
        "        ticker,\n",
        "        \"current debt\",\n",
        "        tags,\n",
        "        \"USD\",\n",
        "        query_date,\n",
        "        quarterly,\n",
        "        tolerance\n",
        "    )"
      ]
    },
    {
      "cell_type": "code",
      "execution_count": 27,
      "metadata": {
        "id": "1Pn9MQruXLdh"
      },
      "outputs": [],
      "source": [
        "def get_noncurrent_debt(ticker: str, query_date: str = None, quarterly: bool = False, tolerance: int = 52) -> float:\n",
        "    \"\"\"\n",
        "    Get the noncurrent debt for a company.\n",
        "\n",
        "    Args:\n",
        "        ticker (str): The ticker symbol for the company.\n",
        "        query_date (str, optional): The date to get the metric for in Y-m-d format. Defaults to None, which gets the latest metric.\n",
        "        quarterly (bool, optional): Whether to get the quarterly metric. Defaults to False.\n",
        "        tolerance (int, optional): The max number of weeks to look back for a filing date. Defaults to 52.\n",
        "\n",
        "    Returns:\n",
        "        float: The noncurrent debt.\n",
        "    \"\"\"\n",
        "    tags = [\"LongTermDebtNoncurrent\"]\n",
        "    return get_concept(\n",
        "        ticker,\n",
        "        \"noncurrent debt\",\n",
        "        tags,\n",
        "        \"USD\",\n",
        "        query_date,\n",
        "        quarterly,\n",
        "        tolerance\n",
        "    )"
      ]
    },
    {
      "cell_type": "code",
      "execution_count": 28,
      "metadata": {
        "id": "1PDTkD5EXLdh"
      },
      "outputs": [],
      "source": [
        "def get_total_debt(ticker: str, query_date: str = None, quarterly: bool = False, tolerance: int = 52) -> float:\n",
        "    \"\"\"\n",
        "    Get the total debt for a company.\n",
        "\n",
        "    Args:\n",
        "        ticker (str): The ticker symbol for the company.\n",
        "        query_date (str, optional): The date to get the metric for in Y-m-d format. Defaults to None, which gets the latest metric.\n",
        "        quarterly (bool, optional): Whether to get the quarterly metric. Defaults to False.\n",
        "        tolerance (int, optional): The max number of weeks to look back for a filing date. Defaults to 52.\n",
        "\n",
        "    Returns:\n",
        "        float: The total debt.\n",
        "    \"\"\"\n",
        "    current_debt = get_current_debt(ticker, query_date, quarterly, tolerance)\n",
        "    noncurrent_debt = get_noncurrent_debt(ticker, query_date, quarterly, tolerance)\n",
        "    return current_debt + noncurrent_debt"
      ]
    },
    {
      "cell_type": "code",
      "execution_count": 29,
      "metadata": {
        "id": "prlU10oEXLdh"
      },
      "outputs": [],
      "source": [
        "def get_capex(ticker: str, query_date: str = None, quarterly: bool = False, tolerance: int = 52) -> float:\n",
        "    \"\"\"\n",
        "    Get the capital expenditures for a company.\n",
        "\n",
        "    Args:\n",
        "        ticker (str): The ticker symbol for the company.\n",
        "        query_date (str, optional): The date to get the metric for in Y-m-d format. Defaults to None, which gets the latest metric.\n",
        "        quarterly (bool, optional): Whether to get the quarterly metric. Defaults to False.\n",
        "        tolerance (int, optional): The max number of weeks to look back for a filing date. Defaults to 52.\n",
        "\n",
        "    Returns:\n",
        "        float: The capital expenditures.\n",
        "    \"\"\"\n",
        "    tags = [\"CapitalExpenditures\", \"PaymentsToAcquirePropertyPlantAndEquipment\", \"PaymentsToAcquireProductiveAssets\"]\n",
        "    return get_concept(\n",
        "        ticker,\n",
        "        \"capital expenditures\",\n",
        "        tags,\n",
        "        \"USD\",\n",
        "        query_date,\n",
        "        quarterly,\n",
        "        tolerance\n",
        "    )"
      ]
    },
    {
      "cell_type": "code",
      "execution_count": 30,
      "metadata": {
        "id": "ss6XKZ1xXLdh"
      },
      "outputs": [],
      "source": [
        "def get_current_assets(ticker: str, query_date: str = None, quarterly: bool = False, tolerance: int = 52) -> float:\n",
        "    \"\"\"\n",
        "    Get the current assets for a company.\n",
        "\n",
        "    Args:\n",
        "        ticker (str): The ticker symbol for the company.\n",
        "        query_date (str, optional): The date to get the metric for in Y-m-d format. Defaults to None, which gets the latest metric.\n",
        "        quarterly (bool, optional): Whether to get the quarterly metric. Defaults to False.\n",
        "        tolerance (int, optional): The max number of weeks to look back for a filing date. Defaults to 52.\n",
        "\n",
        "    Returns:\n",
        "        float: The current assets.\n",
        "    \"\"\"\n",
        "    tags = [\"AssetsCurrent\"]\n",
        "    return get_concept(\n",
        "        ticker,\n",
        "        \"current assets\",\n",
        "        tags,\n",
        "        \"USD\",\n",
        "        query_date,\n",
        "        quarterly,\n",
        "        tolerance\n",
        "    )"
      ]
    },
    {
      "cell_type": "code",
      "execution_count": 31,
      "metadata": {
        "id": "f3uulHj-XLdh"
      },
      "outputs": [],
      "source": [
        "def get_current_liabilities(ticker: str, query_date: str = None, quarterly: bool = False, tolerance: int = 52) -> float:\n",
        "    \"\"\"\n",
        "    Get the current liabilities for a company.\n",
        "\n",
        "    Args:\n",
        "        ticker (str): The ticker symbol for the company.\n",
        "        query_date (str, optional): The date to get the metric for in Y-m-d format. Defaults to None, which gets the latest metric.\n",
        "        quarterly (bool, optional): Whether to get the quarterly metric. Defaults to False.\n",
        "        tolerance (int, optional): The max number of weeks to look back for a filing date. Defaults to 52.\n",
        "\n",
        "    Returns:\n",
        "        float: The current liabilities.\n",
        "    \"\"\"\n",
        "    tags = [\"LiabilitiesCurrent\"]\n",
        "    return get_concept(\n",
        "        ticker,\n",
        "        \"current liabilities\",\n",
        "        tags,\n",
        "        \"USD\",\n",
        "        query_date,\n",
        "        quarterly,\n",
        "        tolerance\n",
        "    )"
      ]
    },
    {
      "cell_type": "code",
      "execution_count": 32,
      "metadata": {
        "id": "H7towaqOXLdi"
      },
      "outputs": [],
      "source": [
        "def get_working_capital(ticker: str, query_date: str = None, quarterly: bool = False, tolerance: int = 52) -> float:\n",
        "    \"\"\"\n",
        "    Get the working capital for a company.\n",
        "\n",
        "    Args:\n",
        "        ticker (str): The ticker symbol for the company.\n",
        "        query_date (str, optional): The date to get the metric for in Y-m-d format. Defaults to None, which gets the latest metric.\n",
        "        quarterly (bool, optional): Whether to get the quarterly metric. Defaults to False.\n",
        "        tolerance (int, optional): The max number of weeks to look back for a filing date. Defaults to 52.\n",
        "\n",
        "    Returns:\n",
        "        float: The working capital.\n",
        "    \"\"\"\n",
        "    current_assets = get_current_assets(ticker, query_date, quarterly, tolerance)\n",
        "    current_liabilities = get_current_liabilities(ticker, query_date, quarterly, tolerance)\n",
        "    return current_assets - current_liabilities"
      ]
    },
    {
      "cell_type": "code",
      "execution_count": 33,
      "metadata": {
        "id": "j4XjY9LgXLdi"
      },
      "outputs": [],
      "source": [
        "def get_change_in_working_capital(ticker: str, query_date: str = None, quarterly: bool = False, tolerance: int = 52) -> float:\n",
        "    \"\"\"\n",
        "    Get the change in working capital for a company.\n",
        "\n",
        "    Args:\n",
        "        ticker (str): The ticker symbol for the company.\n",
        "        query_date (str, optional): The date to get the metric for in Y-m-d format. Defaults to None, which gets the latest metric.\n",
        "        quarterly (bool, optional): Whether to get the quarterly metric. Defaults to False.\n",
        "        tolerance (int, optional): The max number of weeks to look back for a filing date. Defaults to 52.\n",
        "\n",
        "    Returns:\n",
        "        float: The change in working capital.\n",
        "    \"\"\"\n",
        "    if query_date is None:\n",
        "        query_date = datetime.today().strftime(\"%Y-%m-%d\")\n",
        "    one_year_ago = datetime.strptime(query_date, \"%Y-%m-%d\") - relativedelta.relativedelta(years=1)\n",
        "    current_wc = get_working_capital(ticker, query_date, quarterly, tolerance)\n",
        "    previous_wc = get_working_capital(ticker, one_year_ago.strftime(\"%Y-%m-%d\"), quarterly, tolerance)\n",
        "    return current_wc - previous_wc"
      ]
    },
    {
      "cell_type": "code",
      "execution_count": 34,
      "metadata": {
        "id": "x5E8urHNXLdi"
      },
      "outputs": [],
      "source": [
        "def get_cash(ticker: str, query_date: str = None, quarterly: bool = False, tolerance: int = 52) -> float:\n",
        "    \"\"\"\n",
        "    Get the cash for a company.\n",
        "\n",
        "    Args:\n",
        "        ticker (str): The ticker symbol for the company.\n",
        "        query_date (str, optional): The date to get the metric for in Y-m-d format. Defaults to None, which gets the latest metric.\n",
        "        quarterly (bool, optional): Whether to get the quarterly metric. Defaults to False.\n",
        "        tolerance (int, optional): The max number of weeks to look back for a filing date. Defaults to 52.\n",
        "\n",
        "    Returns:\n",
        "        float: The cash.\n",
        "    \"\"\"\n",
        "    tags = [\"CashAndCashEquivalentsAtCarryingValue\"]\n",
        "    return get_concept(\n",
        "        ticker,\n",
        "        \"cash\",\n",
        "        tags,\n",
        "        \"USD\",\n",
        "        query_date,\n",
        "        quarterly,\n",
        "        tolerance\n",
        "    )"
      ]
    },
    {
      "cell_type": "code",
      "execution_count": 35,
      "metadata": {
        "id": "0X7gh7jrXLdi"
      },
      "outputs": [],
      "source": [
        "def get_ebit(ticker: str, query_date: str = None, quarterly: bool = False, tolerance: int = 52) -> float:\n",
        "    \"\"\"\n",
        "    Get the EBIT for a company.\n",
        "\n",
        "    Args:\n",
        "        ticker (str): The ticker symbol for the company.\n",
        "        query_date (str, optional): The date to get the metric for in Y-m-d format. Defaults to None, which gets the latest metric.\n",
        "        quarterly (bool, optional): Whether to get the quarterly metric. Defaults to False.\n",
        "        tolerance (int, optional): The max number of weeks to look back for a filing date. Defaults to 52.\n",
        "\n",
        "    Returns:\n",
        "        float: The EBIT.\n",
        "    \"\"\"\n",
        "    try:\n",
        "        net_income = get_net_income(ticker, query_date, quarterly, tolerance)\n",
        "        interest_expense = get_interest_expense(ticker, query_date, quarterly, tolerance)\n",
        "        tax_expense = get_tax_expense(ticker, query_date, quarterly, tolerance)\n",
        "        return net_income + interest_expense + tax_expense\n",
        "    except:\n",
        "        revenue = get_revenue(ticker, query_date, quarterly, tolerance)\n",
        "        cost_of_revenue = get_cost_of_revenue(ticker, query_date, quarterly, tolerance)\n",
        "        operating_expenses = get_operating_expenses(ticker, query_date, quarterly, tolerance)\n",
        "        return revenue - cost_of_revenue - operating_expenses"
      ]
    },
    {
      "cell_type": "code",
      "execution_count": 36,
      "metadata": {
        "id": "zElC9xy9XLdi"
      },
      "outputs": [],
      "source": [
        "def get_ufcf(ticker: str, query_date: str = None, quarterly: bool = False, tolerance: int = 52) -> float:\n",
        "    \"\"\"\n",
        "    Get the unlevered free cash flow for a company.\n",
        "\n",
        "    Args:\n",
        "        ticker (str): The ticker symbol for the company.\n",
        "        query_date (str, optional): The date to get the metric for in Y-m-d format. Defaults to None, which gets the latest metric.\n",
        "        quarterly (bool, optional): Whether to get the quarterly metric. Defaults to False.\n",
        "        tolerance (int, optional): The max number of weeks to look back for a filing date. Defaults to 52.\n",
        "\n",
        "    Returns:\n",
        "        float: The unlevered free cash flow.\n",
        "    \"\"\"\n",
        "    ebit = get_ebit(ticker, query_date, quarterly, tolerance)\n",
        "    tax_expense = get_tax_expense(ticker, query_date, quarterly, tolerance)\n",
        "    d_and_a = get_depreciation_and_amortization(ticker, query_date, quarterly, tolerance)\n",
        "    capex = get_capex(ticker, query_date, quarterly, tolerance)\n",
        "    change_in_wc = get_change_in_working_capital(ticker, query_date, quarterly, tolerance)\n",
        "    return ebit - tax_expense + d_and_a - capex - change_in_wc"
      ]
    }
  ],
  "metadata": {
    "colab": {
      "provenance": []
    },
    "kernelspec": {
      "display_name": "SharpeRatio@3.7.3",
      "language": "python",
      "name": "python3"
    },
    "language_info": {
      "codemirror_mode": {
        "name": "ipython",
        "version": 3
      },
      "file_extension": ".py",
      "mimetype": "text/x-python",
      "name": "python",
      "nbconvert_exporter": "python",
      "pygments_lexer": "ipython3",
      "version": "3.10.10"
    },
    "orig_nbformat": 4,
    "vscode": {
      "interpreter": {
        "hash": "517a1f305077cc8c54816e38c7c22c5a833b9c5056a2cf61edaa616aae2934ec"
      }
    }
  },
  "nbformat": 4,
  "nbformat_minor": 0
}
