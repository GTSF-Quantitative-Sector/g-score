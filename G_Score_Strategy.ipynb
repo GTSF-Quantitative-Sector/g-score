{
  "cells": [
    {
      "cell_type": "markdown",
      "metadata": {
        "id": "P42x11o0IMvK"
      },
      "source": [
        "# G-Score Strategy - Investments Committee Quant Sector\n"
      ]
    },
    {
      "cell_type": "code",
      "execution_count": 1,
      "metadata": {
        "id": "kD7aSzg5IsWG"
      },
      "outputs": [],
      "source": [
        "from polygon import RESTClient\n",
        "from collections import defaultdict\n",
        "import csv\n",
        "import statistics\n",
        "import datetime\n",
        "from dateutil.relativedelta import relativedelta\n",
        "import ipynb.fs.defs.sec as sec\n",
        "\n",
        "#not easily able to access shared files so resorting to link download instead\n",
        "#from google.colab import drive\n",
        "#drive.mount(\"/content/drive\", force_remount=True)\n",
        "\n",
        "client = RESTClient(\"uwQtl3txGt5BLbecq7ZbIu0ZbuitCGjc\")"
      ]
    },
    {
      "cell_type": "code",
      "execution_count": 2,
      "metadata": {
        "id": "hAtJEuJuI4Y4"
      },
      "outputs": [],
      "source": [
        "def get_g_scores(query_date: str):\n",
        "  tickers = {}\n",
        "  with open('s&p500.csv', mode ='r') as file:\n",
        "    tickers = {k:v for (k,v) in csv.reader(file)} # convert csv to dict\n",
        "\n",
        "  ticker_data = defaultdict(lambda: {})\n",
        "  industry_data = defaultdict(lambda: defaultdict(lambda: []*13))\n",
        "\n",
        "  for t in tickers:\n",
        "    try:\n",
        "      ticker_data[t][\"Price\"] = client.get_aggs(ticker=t, multiplier=1, timespan='day', from_=query_date, to=query_date)[0].close\n",
        "      ticker_data[t][\"Volume\"] = client.get_aggs(ticker=t, multiplier=1, timespan='day', from_=query_date, to=query_date)[0].volume\n",
        "      ticker_data[t][\"P/E\"] = ticker_data[t][\"Price\"] / (sec.get_net_income(t, query_date) / sec.get_shares_outstanding(t, query_date))\n",
        "      ticker_data[t][\"EV\"] = sec.get_shares_outstanding(t, query_date) * ticker_data[t][\"Price\"]+ sec.get_current_liabilities(t, query_date) - sec.get_current_assets(t, query_date)\n",
        "      ticker_data[t][\"EBITDA\"] = sec.get_ebit(t, query_date) + sec.get_depreciation_and_amortization(t, query_date)\n",
        "      ticker_data[t][\"EV/EBITDA\"] = ticker_data[t][\"EV\"] / ticker_data[t][\"EBITDA\"]\n",
        "      ticker_data[t][\"P/B\"] = ticker_data[t][\"Price\"] / ((sec.get_current_assets(t, query_date) - sec.get_current_liabilities(t, query_date)) / sec.get_shares_outstanding(t, query_date))\n",
        "      ticker_data[t][\"ROA\"] = sec.get_net_income(t, query_date) / sec.get_current_assets(t, query_date)\n",
        "      ticker_data[t][\"CFROA\"] = sec.get_ufcf(t, query_date) / sec.get_current_assets(t, query_date) # need net cash flow\n",
        "      # R&D?\n",
        "      ticker_data[t][\"SMA\"] = client.get_sma(ticker=t, timestamp = query_date).values[0].value\n",
        "      ticker_data[t][\"EMA\"] = client.get_ema(ticker=t, timestamp = query_date).values[0].value\n",
        "      ticker_data[t][\"MACD\"] = client.get_macd(ticker=t, timestamp = query_date).values[0].value\n",
        "      ticker_data[t][\"RSI\"] = client.get_rsi(ticker=t, timestamp = query_date).values[0].value\n",
        "      for k, v in ticker_data[t].items(): # add values to industry-specific data\n",
        "        industry_data[tickers[t]][k].append(v)\n",
        "    except:\n",
        "      ticker_data.pop(t, None)\n",
        "\n",
        "  print(query_date + \": \" + str(len(ticker_data.keys())))\n",
        "\n",
        "  for ind, values in industry_data.items():\n",
        "    for category, data in values.items():\n",
        "      industry_data[ind][category] = statistics.median(data)\n",
        "  \n",
        "  weightings = {\"P/E\": .15, \"EV/EBITDA\": .1, \"P/B\": .1, \"ROA\": .175, \"CFROA\": .175, \"MACD\": .15, \"RSI\": .15}\n",
        "  comparisonTypes = {\"P/E\": '<', \"EV/EBITDA\": '<', \"P/B\": '<', \"ROA\": '>', \"CFROA\": '>', \"MACD\": '>', \"RSI\": '<'}\n",
        "  # Dictates how ticker_val and industry_val are compared: ticker_val[P/E] < or > industry_val[P/E]\n",
        "\n",
        "  def compare(t, category): \n",
        "    (ticker_val, industry_val) = (ticker_data[t][category], industry_data[tickers[t]][category])\n",
        "    return ticker_val > industry_val if comparisonTypes[category] == '>' else ticker_val < industry_val\n",
        "\n",
        "  g_scores = {t : sum(weight for (category, weight) in weightings.items() if compare(t, category)) \n",
        "              for t in ticker_data.keys()}\n",
        "  return g_scores"
      ]
    },
    {
      "cell_type": "code",
      "execution_count": 18,
      "metadata": {
        "id": "CYC1BUMy_Jce"
      },
      "outputs": [],
      "source": [
        "def backtest(g_scores_list, timeframe, starting_date):\n",
        "  curr_date = starting_date\n",
        "  percent_change = 0\n",
        "  curr_holdings = {}\n",
        "  for g_scores in g_scores_list:\n",
        "    curr_change = 0\n",
        "    if curr_date != starting_date:\n",
        "      for s in curr_holdings.keys():\n",
        "        curr_price = client.get_aggs(ticker=s, multiplier=1, timespan='day', from_=curr_date.strftime('%Y-%m-%d'), to=curr_date.strftime('%Y-%m-%d'))[0].close\n",
        "        curr_change += (curr_price - curr_holdings[s]) / curr_holdings[s]\n",
        "      curr_change /= len(curr_holdings.keys())\n",
        "    percent_change += curr_change\n",
        "    curr_holdings.clear()\n",
        "\n",
        "    num_stocks = 0\n",
        "    prev_score = 0\n",
        "    for stock in reversed(sorted(g_scores.items(), key=lambda x:x[1])):\n",
        "      if stock[1] < prev_score and num_stocks >= 5:\n",
        "        break\n",
        "      curr_holdings[stock[0]] = client.get_aggs(ticker=stock[0], multiplier=1, timespan='day', from_=curr_date.strftime('%Y-%m-%d'), to=curr_date.strftime('%Y-%m-%d'))[0].close\n",
        "      prev_score = stock[1]\n",
        "      num_stocks += 1\n",
        "\n",
        "    print(\"Portfolio Update: \" + curr_date.strftime(\"%Y-%m-%d\"))\n",
        "    for s in curr_holdings.keys():\n",
        "      print(s + \": \" + str(curr_holdings[s]))\n",
        "    if timeframe == \"annual\":\n",
        "      curr_date += relativedelta(months=+12)\n",
        "    elif timeframe == \"quarterly\":\n",
        "      curr_date += relativedelta(months=+3)\n",
        "  \n",
        "  print(\"Overall P/L: \" + str(percent_change * 100))\n",
        "  curr_date += relativedelta(months=-3)\n",
        "  spy_start = client.get_aggs(ticker=\"SPY\", multiplier=1, timespan='day', from_=starting_date.strftime('%Y-%m-%d'), to=starting_date.strftime('%Y-%m-%d'))[0].close\n",
        "  spy_end = client.get_aggs(ticker=\"SPY\", multiplier=1, timespan='day', from_=curr_date.strftime('%Y-%m-%d'), to=curr_date.strftime('%Y-%m-%d'))[0].close\n",
        "  print(\"SPY P/L: \" + str((spy_end - spy_start) / spy_start * 100))"
      ]
    },
    {
      "attachments": {},
      "cell_type": "markdown",
      "metadata": {},
      "source": [
        "The following code runs the backtest for the last 5 years"
      ]
    },
    {
      "cell_type": "code",
      "execution_count": 4,
      "metadata": {},
      "outputs": [
        {
          "name": "stdout",
          "output_type": "stream",
          "text": [
            "2022-12-01: 301\n",
            "2023-03-01: 306\n",
            "[{'MMM': 0.85, 'ABT': 0.15, 'ABBV': 0.42500000000000004, 'ATVI': 0.32499999999999996, 'ADM': 0.4, 'ADBE': 0.5, 'AAP': 0.4, 'AES': 0.15, 'A': 0.5, 'APD': 0.5, 'AKAM': 0.7, 'ALK': 0.5, 'ALB': 0.15, 'ALLE': 0.75, 'LNT': 0.75, 'MO': 0.45, 'AMZN': 0.6749999999999999, 'AMCR': 0, 'AMD': 0.475, 'AEE': 0.5750000000000001, 'AAL': 0.5, 'AMT': 0.425, 'ABC': 0.5, 'AME': 0.5, 'AMGN': 0.6, 'APH': 0.1, 'ANSS': 0.32499999999999996, 'AON': 0.4, 'AAPL': 0.75, 'AMAT': 0.6749999999999999, 'APTV': 0.4, 'T': 0.7, 'ATO': 0.4, 'AZO': 0.6, 'AVY': 0.7999999999999999, 'BBWI': 0.6749999999999999, 'BAX': 0.5, 'BDX': 0.32499999999999996, 'BBY': 0.85, 'TECH': 0.85, 'BIIB': 0.4, 'BA': 0.65, 'BKNG': 0.15, 'BWA': 0.35, 'BSX': 0.175, 'BMY': 0.425, 'AVGO': 0.32499999999999996, 'BR': 0.5, 'BRO': 0.25, 'CDNS': 0.5, 'CZR': 0.425, 'CPB': 0.75, 'CAH': 0.4, 'KMX': 0.5, 'CCL': 0.5, 'CARR': 0.35, 'CBOE': 0.85, 'CE': 1.0, 'CNC': 0.25, 'CNP': 0.25, 'CF': 0.75, 'CRL': 0.75, 'CVX': 0.75, 'CHD': 0.85, 'CTAS': 0.5, 'CSCO': 0.6, 'CLX': 0.4, 'CMS': 0.25, 'CTSH': 0.35, 'CL': 0.5, 'COP': 0.75, 'ED': 0.15, 'COO': 0.6499999999999999, 'CTVA': 0.25, 'CSGP': 0.1, 'COST': 0.3, 'CCI': 0.42500000000000004, 'CSX': 0.35, 'CMI': 0.65, 'CVS': 0.5, 'DHR': 0.65, 'DRI': 1.0, 'DVA': 0.85, 'XRAY': 0.35, 'DVN': 0.75, 'DXCM': 0.25, 'DIS': 0.15, 'DG': 0.5, 'DLTR': 0.32499999999999996, 'DPZ': 0.5, 'DOV': 0.75, 'DOW': 0.85, 'DUK': 0.9, 'DD': 0.75, 'DXC': 0.5, 'ETN': 0.5, 'EBAY': 0.6749999999999999, 'ECL': 0.32499999999999996, 'EIX': 0.25, 'EW': 0.5, 'ELV': 0.65, 'EMR': 0, 'ENPH': 0.3, 'EQT': 0.575, 'EFX': 0.6, 'EQIX': 0.15, 'ETSY': 0.5, 'EVRG': 0.75, 'ES': 0.5, 'EXC': 0.375, 'XOM': 0.725, 'FDS': 0.5, 'FAST': 0.32499999999999996, 'FDX': 0.5, 'FSLR': 0.25, 'FE': 0.7, 'FIS': 0.375, 'FISV': 0.1, 'FMC': 0.15, 'FTNT': 0.5, 'FTV': 0.42500000000000004, 'GNRC': 0.35, 'GD': 0.55, 'GIS': 0.25, 'GPC': 0.15, 'GILD': 0.75, 'GPN': 0.42500000000000004, 'HAL': 0.25, 'HAS': 0.25, 'HCA': 0.75, 'HSIC': 0.35, 'HPE': 0.35, 'HLT': 0.42500000000000004, 'HOLX': 0.5249999999999999, 'HON': 0.475, 'HWM': 0.42500000000000004, 'HPQ': 0.85, 'HUM': 0.65, 'HII': 0.4, 'IBM': 0.6749999999999999, 'IEX': 0.5, 'IDXX': 0.5, 'ITW': 0.6499999999999999, 'ILMN': 0.32499999999999996, 'INCY': 0.425, 'IR': 0.25, 'INTC': 0.6749999999999999, 'ICE': 0.25, 'IFF': 0.1, 'IP': 0.2, 'INTU': 0.5, 'IQV': 0.5750000000000001, 'JBHT': 0.575, 'JKHY': 0.5, 'J': 0.5, 'JNJ': 0.425, 'JCI': 0.15, 'JNPR': 0.1, 'K': 0.75, 'KDP': 0.575, 'KEYS': 0.25, 'KMB': 0.5, 'KMI': 0.275, 'KLAC': 0.85, 'KHC': 0.375, 'KR': 0.4, 'LH': 1.0, 'LRCX': 1.0, 'LW': 0.15, 'LVS': 0.15, 'LDOS': 0.425, 'LIN': 0.6, 'LYV': 0.4, 'LKQ': 0.575, 'LMT': 0.725, 'LUMN': 0.575, 'LYB': 0.85, 'MRO': 0.75, 'MPC': 0.5, 'MAR': 0.6, 'MMC': 0.6, 'MLM': 0.65, 'MAS': 0.35, 'MTCH': 0.65, 'MCD': 0.65, 'MCK': 0.25, 'MDT': 0.6749999999999999, 'MRK': 0.475, 'MTD': 0.5, 'MGM': 0.6749999999999999, 'MCHP': 0.6, 'MU': 0.6749999999999999, 'MSFT': 0.6499999999999999, 'MHK': 0.6749999999999999, 'MOH': 0.35, 'MDLZ': 0.85, 'MPWR': 0.3, 'MCO': 0.9, 'MSI': 0.15, 'MSCI': 0.3, 'NDAQ': 0.5249999999999999, 'NTAP': 0.5, 'NFLX': 0.6, 'NWL': 0.5, 'NEM': 0.2, 'NI': 0.7, 'NDSN': 0.5, 'NSC': 0.85, 'NOC': 0.9, 'NCLH': 0.5, 'NRG': 0.575, 'NUE': 0.65, 'NXPI': 0.9, 'ORLY': 0.25, 'OXY': 0.42500000000000004, 'ODFL': 0.65, 'OMC': 0.6749999999999999, 'ON': 0.25, 'OKE': 0.75, 'ORCL': 0.32499999999999996, 'PKG': 0.6749999999999999, 'PH': 0.65, 'PAYX': 0, 'PAYC': 0.15, 'PYPL': 0.5, 'PEP': 0.75, 'PFE': 0.425, 'PM': 0.85, 'PNW': 0.85, 'PXD': 0.32499999999999996, 'PPG': 0.3, 'PPL': 0.15, 'PG': 0.75, 'PTC': 0.32499999999999996, 'QRVO': 1.0, 'QCOM': 0.75, 'PWR': 0.15, 'DGX': 0.75, 'RTX': 0.1, 'RSG': 0.55, 'ROK': 0.475, 'SPGI': 0.42500000000000004, 'CRM': 0.32499999999999996, 'SLB': 0.15, 'STX': 0.75, 'SEE': 0.425, 'SRE': 0.5, 'NOW': 0.15, 'SHW': 0.25, 'SWKS': 0.85, 'SEDG': 0.25, 'SO': 0.25, 'SWK': 0.6749999999999999, 'SBUX': 0.6, 'STLD': 0.6749999999999999, 'STE': 0.15, 'SYK': 0.15, 'SNPS': 0.15, 'TMUS': 0.525, 'TPR': 0.6, 'TRGP': 0.25, 'TGT': 0.85, 'TEL': 1.0, 'TDY': 0.32499999999999996, 'TFX': 0.85, 'TER': 1.0, 'TSLA': 0.15, 'TXN': 0.825, 'KO': 0.35, 'HD': 0.6, 'IPG': 0.4, 'SJM': 0.15, 'MOS': 0.575, 'TMO': 0.5, 'TJX': 0.5, 'TSCO': 0.475, 'TT': 0.6499999999999999, 'TRMB': 0.32499999999999996, 'ULTA': 0.5, 'UNP': 1.0, 'URI': 0.42500000000000004, 'UNH': 0.25, 'VLO': 0.4, 'VRSN': 0.6499999999999999, 'VRSK': 0.6, 'VMC': 0.65, 'WBA': 0.3, 'WMT': 0.35, 'WM': 0.45, 'WEC': 0.5750000000000001, 'WST': 0.32499999999999996, 'WDC': 0.5, 'WRK': 0.6749999999999999, 'WHR': 0.4, 'WMB': 0.375, 'WYNN': 0.4, 'XEL': 0.4, 'XYL': 0.25, 'YUM': 0.5, 'ZBRA': 0.825, 'ZTS': 0.42500000000000004}, {'MMM': 0.75, 'ABT': 0.5, 'ABBV': 0.25, 'ATVI': 0.32499999999999996, 'ADM': 0.4, 'ADBE': 0.5, 'AAP': 0.4, 'AES': 0.3, 'A': 0.5, 'APD': 0.5, 'AKAM': 0.35, 'ALK': 0.35, 'ALB': 0.575, 'ALLE': 0.75, 'LNT': 0.6499999999999999, 'MO': 0.85, 'AMZN': 0.4, 'AMCR': 0.15, 'AMD': 0.15, 'AEE': 0.42500000000000004, 'AAL': 0.525, 'AMT': 0, 'ABC': 0.5, 'AME': 0.5, 'AMGN': 0.75, 'APH': 0.5, 'ADI': 0.5, 'ANSS': 0.32499999999999996, 'AON': 0.25, 'AAPL': 0.75, 'AMAT': 0.85, 'APTV': 0.15, 'T': 0.65, 'ATO': 0.25, 'AZO': 0.6, 'AVY': 0.42500000000000004, 'BALL': 0.25, 'BBWI': 0.85, 'BAX': 0.5, 'BDX': 0.32499999999999996, 'BBY': 0.85, 'TECH': 0.7, 'BIIB': 0.5249999999999999, 'BA': 0.35, 'BKNG': 0.15, 'BWA': 0.5, 'BSX': 0.32499999999999996, 'BMY': 0.5750000000000001, 'AVGO': 0.6499999999999999, 'BR': 0.5, 'BRO': 0.4, 'CDNS': 0.5, 'CZR': 0.6749999999999999, 'CPB': 0.85, 'CAH': 0.4, 'KMX': 0.35, 'CCL': 0.5, 'CARR': 0.85, 'CBOE': 0.32499999999999996, 'CE': 0.5249999999999999, 'CNC': 0.25, 'CNP': 0.825, 'CF': 0.85, 'CRL': 0.275, 'CVX': 0.5, 'CHD': 0.15, 'CTAS': 0.5, 'CSCO': 0.75, 'CLX': 0.25, 'CMS': 0.25, 'CTSH': 0.6749999999999999, 'CL': 0.175, 'COP': 0.75, 'ED': 0.25, 'COO': 0.5, 'CTVA': 0, 'CSGP': 0.25, 'COST': 0.15, 'CCI': 1.0, 'CSX': 0.75, 'CMI': 0.4, 'CVS': 0.5, 'DHR': 0.32499999999999996, 'DRI': 0.6, 'DVA': 0.6749999999999999, 'XRAY': 0.5, 'DVN': 0.75, 'DXCM': 0.32499999999999996, 'DIS': 0.15, 'DG': 0.5, 'DLTR': 0.175, 'DPZ': 0.5, 'DOV': 0.75, 'DOW': 0.5, 'DUK': 0.25, 'DD': 0.85, 'DXC': 0.35, 'EBAY': 0.5, 'ECL': 0.15, 'EIX': 0.25, 'EW': 0.5, 'ELV': 0.5, 'EMR': 0.15, 'ENPH': 0, 'ETR': 0.275, 'EQT': 0.4, 'EFX': 0.42500000000000004, 'EQIX': 0, 'ETSY': 0.4, 'EVRG': 0.475, 'ES': 0.575, 'EXC': 0.85, 'XOM': 0, 'FDS': 0.45, 'FAST': 0.32499999999999996, 'FDX': 0.5, 'FSLR': 0.4, 'FE': 0.525, 'FIS': 0.5, 'FISV': 0.25, 'FMC': 0.15, 'FTNT': 0.15, 'FTV': 0.42500000000000004, 'GEN': 0.85, 'GNRC': 0.25, 'GD': 0.5, 'GIS': 0.25, 'GPC': 0.4, 'GILD': 0.7999999999999999, 'GPN': 0.525, 'HAL': 0.1, 'HAS': 0.42500000000000004, 'HCA': 0.9, 'HSIC': 0.65, 'HPE': 0.5, 'HLT': 0.6, 'HOLX': 0.825, 'HON': 0.3, 'HWM': 0.25, 'HPQ': 0.5, 'HUM': 0.5, 'HII': 0.6749999999999999, 'IBM': 0.25, 'IEX': 0.5, 'IDXX': 0.6, 'ITW': 0.6499999999999999, 'ILMN': 0.25, 'INCY': 0.25, 'IR': 0.42500000000000004, 'INTC': 0.5, 'ICE': 0.5, 'IFF': 0.5, 'IP': 0.3, 'INTU': 0.5, 'IQV': 0.275, 'JBHT': 0.575, 'JKHY': 0.5, 'J': 0.5, 'JNJ': 0.75, 'JCI': 0.15, 'JNPR': 0.5, 'K': 0.575, 'KDP': 0.65, 'KEYS': 0.4, 'KMB': 0.85, 'KMI': 0.75, 'KLAC': 0.85, 'KHC': 1.0, 'KR': 0.25, 'LH': 0.7, 'LRCX': 0.85, 'LW': 0.15, 'LVS': 0.3, 'LIN': 0.6, 'LYV': 0.1, 'LKQ': 0.575, 'LMT': 0.4, 'LUMN': 0.575, 'LYB': 0.85, 'MRO': 0.7, 'MPC': 0.5, 'MAR': 0.6, 'MMC': 0.75, 'MLM': 0.5, 'MAS': 0.9, 'MTCH': 0.5, 'MCD': 0.5, 'MCK': 0.25, 'MDT': 0.6749999999999999, 'MRK': 0.575, 'MTD': 0.5, 'MGM': 0.6749999999999999, 'MCHP': 0.5, 'MU': 0.6749999999999999, 'MSFT': 0.7999999999999999, 'MHK': 0.35, 'MOH': 0.5, 'MDLZ': 0.42500000000000004, 'MPWR': 0.32499999999999996, 'MCO': 0.42500000000000004, 'MSI': 0.32499999999999996, 'MSCI': 0.5, 'NDAQ': 0.65, 'NTAP': 0.5, 'NFLX': 0.5, 'NWL': 0.15, 'NEM': 0.3, 'NI': 0.75, 'NDSN': 0.6499999999999999, 'NSC': 0.85, 'NOC': 0.75, 'NCLH': 0.65, 'NRG': 0.575, 'NUE': 0.35, 'NXPI': 0.575, 'ORLY': 0.25, 'OXY': 0.75, 'ODFL': 0.6499999999999999, 'OMC': 0.6749999999999999, 'ON': 0.6749999999999999, 'OKE': 0.5750000000000001, 'ORCL': 0.32499999999999996, 'OTIS': 0.42500000000000004, 'PKG': 0.75, 'PH': 0.25, 'PAYX': 0.15, 'PAYC': 0.15, 'PYPL': 0.35, 'PEP': 0.6, 'PFE': 0.9, 'PNW': 0.6749999999999999, 'PXD': 0.85, 'PPG': 0.15, 'PPL': 0.5750000000000001, 'PG': 0.85, 'PTC': 0.32499999999999996, 'QRVO': 0.85, 'QCOM': 0.75, 'PWR': 0.25, 'DGX': 0.75, 'RTX': 0.4, 'RSG': 0.7000000000000001, 'ROK': 0.32499999999999996, 'SPGI': 0.75, 'CRM': 0.15, 'SLB': 0.15, 'STX': 0.9, 'SEE': 0.42500000000000004, 'SRE': 0.32499999999999996, 'NOW': 0.15, 'SHW': 0.42500000000000004, 'SWKS': 0.85, 'SEDG': 0.25, 'SO': 0.6, 'SWK': 0.5, 'SBUX': 0.6, 'STLD': 0.85, 'STE': 0, 'SYK': 0.15, 'SNPS': 0.5, 'TMUS': 0.275, 'TPR': 0.75, 'TRGP': 0.25, 'TGT': 1.0, 'TEL': 0.575, 'TDY': 0.25, 'TFX': 0.6, 'TER': 0.85, 'TSLA': 0.32499999999999996, 'TXN': 0.6, 'KO': 0.5, 'HD': 0.75, 'IPG': 0.575, 'SJM': 0.575, 'MOS': 0.75, 'TMO': 0.32499999999999996, 'TJX': 0.5, 'TSCO': 0.5, 'TT': 0.6499999999999999, 'TRMB': 0.32499999999999996, 'TYL': 0.5750000000000001, 'ULTA': 0.5, 'UNP': 0.7, 'URI': 0.15, 'UNH': 0.75, 'VLO': 0.4, 'VRSN': 0.6, 'VRSK': 0.45, 'VTRS': 0.5, 'VMC': 0.65, 'WBA': 0.3, 'WMT': 0.2, 'WBD': 0.6749999999999999, 'WM': 0.525, 'WEC': 0.75, 'WST': 0.32499999999999996, 'WDC': 0.5, 'WRK': 0.6749999999999999, 'WHR': 0.4, 'WMB': 0.5750000000000001, 'WYNN': 0.5, 'XEL': 0.6, 'XYL': 0.15, 'YUM': 0.6, 'ZBRA': 0.275, 'ZTS': 0.5}]\n"
          ]
        }
      ],
      "source": [
        "query_date = datetime.datetime.strptime(\"2022-12-01\", '%Y-%m-%d')\n",
        "end_date = datetime.datetime.strptime(\"2023-03-01\", '%Y-%m-%d')\n",
        "g_scores_list = []\n",
        "while query_date <= end_date:\n",
        "    g_scores_list.append(get_g_scores(query_date.strftime(\"%Y-%m-%d\")))\n",
        "    query_date += relativedelta(months=+3)\n",
        "print(g_scores_list)"
      ]
    },
    {
      "cell_type": "code",
      "execution_count": 19,
      "metadata": {},
      "outputs": [
        {
          "name": "stdout",
          "output_type": "stream",
          "text": [
            "Portfolio Update: 2022-12-01\n",
            "UNP: 215.93\n",
            "TER: 92.29\n",
            "TEL: 126.8\n",
            "QRVO: 97.25\n",
            "LRCX: 463.14\n",
            "LH: 241.77\n",
            "DRI: 145.65\n",
            "CE: 107.49\n",
            "Portfolio Update: 2023-03-01\n",
            "TGT: 162.4\n",
            "KHC: 38.4\n",
            "CCI: 128.96\n",
            "STX: 64.12\n",
            "PFE: 40.18\n",
            "MAS: 51.61\n",
            "HCA: 244.3\n",
            "Overall P/L: 3.0824531439168945\n",
            "SPY P/L: -3.102754185281552\n"
          ]
        }
      ],
      "source": [
        "backtest(g_scores_list, \"quarterly\", datetime.datetime.strptime(\"2022-12-01\", '%Y-%m-%d'))"
      ]
    }
  ],
  "metadata": {
    "colab": {
      "provenance": []
    },
    "kernelspec": {
      "display_name": "Python 3",
      "name": "python3"
    },
    "language_info": {
      "codemirror_mode": {
        "name": "ipython",
        "version": 3
      },
      "file_extension": ".py",
      "mimetype": "text/x-python",
      "name": "python",
      "nbconvert_exporter": "python",
      "pygments_lexer": "ipython3",
      "version": "3.10.10"
    }
  },
  "nbformat": 4,
  "nbformat_minor": 0
}
